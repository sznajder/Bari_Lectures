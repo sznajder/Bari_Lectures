{
  "nbformat": 4,
  "nbformat_minor": 0,
  "metadata": {
    "colab": {
      "name": "Primitive_conversion.ipynb",
      "version": "0.3.2",
      "provenance": [],
      "include_colab_link": true
    },
    "kernelspec": {
      "name": "python3",
      "display_name": "Python 3"
    }
  },
  "cells": [
    {
      "cell_type": "markdown",
      "metadata": {
        "id": "view-in-github",
        "colab_type": "text"
      },
      "source": [
        "<a href=\"https://colab.research.google.com/github/sznajder/Bari_Lectures/blob/master/uproot_loop_events.ipynb\" target=\"_parent\"><img src=\"https://colab.research.google.com/assets/colab-badge.svg\" alt=\"Open In Colab\"/></a>"
      ]
    },
    {
      "cell_type": "code",
      "metadata": {
        "id": "gQ97yweHaePz",
        "colab_type": "code",
        "outputId": "ab96f7de-a2d2-4498-a6a1-e0749cd5a217",
        "colab": {
          "base_uri": "https://localhost:8080/",
          "height": 226
        }
      },
      "source": [
        "!fusermount -u drive"
      ],
      "execution_count": 0,
      "outputs": [
        {
          "output_type": "stream",
          "text": [
            "fusermount: failed to unmount /content/drive: No such file or directory\n"
          ],
          "name": "stdout"
        }
      ]
    },
    {
      "cell_type": "code",
      "metadata": {
        "id": "MqxOyHkRbmhX",
        "colab_type": "code",
        "outputId": "f2703876-9ad3-4ab7-ca44-187a35e7ff27",
        "colab": {
          "base_uri": "https://localhost:8080/",
          "height": 247
        }
      },
      "source": [
        "from google.colab import drive\n",
        "drive.mount('/content/gdrive', force_remount=True)\n",
        "root_dir = \"/content/gdrive/My Drive/Colab Notebooks\"\n",
        "base_dir = root_dir + '/Data'"
      ],
      "execution_count": 0,
      "outputs": [
        {
          "output_type": "stream",
          "text": [
            "Go to this URL in a browser: https://accounts.google.com/o/oauth2/auth?client_id=947318989803-6bn6qk8qdgf4n4g3pfee6491hc0brc4i.apps.googleusercontent.com&redirect_uri=urn%3Aietf%3Awg%3Aoauth%3A2.0%3Aoob&scope=email%20https%3A%2F%2Fwww.googleapis.com%2Fauth%2Fdocs.test%20https%3A%2F%2Fwww.googleapis.com%2Fauth%2Fdrive%20https%3A%2F%2Fwww.googleapis.com%2Fauth%2Fdrive.photos.readonly%20https%3A%2F%2Fwww.googleapis.com%2Fauth%2Fpeopleapi.readonly&response_type=code\n",
            "\n",
            "Enter your authorization code:\n",
            "··········\n",
            "Mounted at /content/gdrive\n"
          ],
          "name": "stdout"
        }
      ]
    },
    {
      "cell_type": "code",
      "metadata": {
        "id": "Nwz6-sWlbqPj",
        "colab_type": "code",
        "outputId": "7bc61478-5b2b-456a-be69-f439c900bf07",
        "colab": {
          "base_uri": "https://localhost:8080/",
          "height": 353
        }
      },
      "source": [
        "!pip install uproot\n"
      ],
      "execution_count": 0,
      "outputs": [
        {
          "output_type": "stream",
          "text": [
            "Collecting uproot\n",
            "\u001b[?25l  Downloading https://files.pythonhosted.org/packages/c1/67/477b9e421148645df549a8c335e2443fe482bba7a18bbedc119fec049cac/uproot-3.9.0-py2.py3-none-any.whl (107kB)\n",
            "\u001b[K     |████████████████████████████████| 112kB 2.8MB/s \n",
            "\u001b[?25hCollecting uproot-methods>=0.7.0 (from uproot)\n",
            "  Downloading https://files.pythonhosted.org/packages/2d/b9/67967c109c1897d8a0a761785fd02ce6c18cff89e8ef544971491900d13f/uproot_methods-0.7.0-py2.py3-none-any.whl\n",
            "Requirement already satisfied: numpy>=1.13.1 in /usr/local/lib/python3.6/dist-packages (from uproot) (1.16.4)\n",
            "Requirement already satisfied: cachetools in /usr/local/lib/python3.6/dist-packages (from uproot) (3.1.1)\n",
            "Collecting awkward<1.0,>=0.12.0 (from uproot)\n",
            "\u001b[?25l  Downloading https://files.pythonhosted.org/packages/b5/8a/72ab49b727dc40c7df6f3dbbe5a1ce5d7ec3ad8f3d13ddd59432c14f3523/awkward-0.12.6-py2.py3-none-any.whl (86kB)\n",
            "\u001b[K     |████████████████████████████████| 92kB 11.8MB/s \n",
            "\u001b[?25hInstalling collected packages: awkward, uproot-methods, uproot\n",
            "Successfully installed awkward-0.12.6 uproot-3.9.0 uproot-methods-0.7.0\n"
          ],
          "name": "stdout"
        }
      ]
    },
    {
      "cell_type": "code",
      "metadata": {
        "id": "_5XGMTgab2l2",
        "colab_type": "code",
        "outputId": "621d03f7-adfd-4439-acab-f8fe62bd95fc",
        "colab": {
          "base_uri": "https://localhost:8080/",
          "height": 1000
        }
      },
      "source": [
        "import uproot\n",
        "import numpy as np\n",
        "import pandas as pd\n",
        "import h5py\n",
        "#!ls 'gdrive/My Drive/Colab Notebooks/Data'\n",
        "!ls 'gdrive/My Drive/Colab Notebooks/Data'\n",
        "\n",
        "filename = base_dir+'/ntuple_SingleNeutrino_PU200_63.root'\n",
        "#filename = base_dir+'/ntuple_SingleMuon_Endcap_9.root'\n",
        "print(\"Openning:\",filename)\n",
        "upfile = uproot.open(filename)\n",
        "upfile.keys()\n",
        "tree = upfile[\"ntupler\"][\"tree\"] # dictionary of NumPy arrays\n",
        "\n",
        "tree.show()"
      ],
      "execution_count": 0,
      "outputs": [
        {
          "output_type": "stream",
          "text": [
            "events.root\t       ntuple_qqH_ZZ4mu.root\n",
            "jet_images.h5\t       ntuple_SingleMuon_Endcap_9.root\n",
            "ntuple_bkg_ZZ4mu.root  ntuple_SingleNeutrino_PU200_63.root\n",
            "ntuple_ggH_ZZ4mu.root  partGun_PDGid13_x2_E35.0To35.0_NTUP_1.root\n",
            "Openning: /content/gdrive/My Drive/Colab Notebooks/Data/ntuple_SingleNeutrino_PU200_63.root\n",
            "vh_endcap                  TStreamerSTL               asjagged(asdtype('>i2'), 10)\n",
            "vh_station                 TStreamerSTL               asjagged(asdtype('>i2'), 10)\n",
            "vh_ring                    TStreamerSTL               asjagged(asdtype('>i2'), 10)\n",
            "vh_sector                  TStreamerSTL               asjagged(asdtype('>i2'), 10)\n",
            "vh_subsector               TStreamerSTL               asjagged(asdtype('>i2'), 10)\n",
            "vh_chamber                 TStreamerSTL               asjagged(asdtype('>i2'), 10)\n",
            "vh_cscid                   TStreamerSTL               asjagged(asdtype('>i2'), 10)\n",
            "vh_bx                      TStreamerSTL               asjagged(asdtype('>i2'), 10)\n",
            "vh_type                    TStreamerSTL               asjagged(asdtype('>i2'), 10)\n",
            "vh_neighbor                TStreamerSTL               asjagged(asdtype('>i2'), 10)\n",
            "vh_strip                   TStreamerSTL               asjagged(asdtype('>i2'), 10)\n",
            "vh_wire                    TStreamerSTL               asjagged(asdtype('>i2'), 10)\n",
            "vh_roll                    TStreamerSTL               asjagged(asdtype('>i2'), 10)\n",
            "vh_quality                 TStreamerSTL               asjagged(asdtype('>i2'), 10)\n",
            "vh_pattern                 TStreamerSTL               asjagged(asdtype('>i2'), 10)\n",
            "vh_bend                    TStreamerSTL               asjagged(asdtype('>i2'), 10)\n",
            "vh_time                    TStreamerSTL               asjagged(asdtype('>i2'), 10)\n",
            "vh_fr                      TStreamerSTL               asjagged(asdtype('>i2'), 10)\n",
            "vh_emtf_phi                TStreamerSTL               asjagged(asdtype('>i4'), 10)\n",
            "vh_emtf_theta              TStreamerSTL               asjagged(asdtype('>i4'), 10)\n",
            "vh_sim_phi                 TStreamerSTL               asjagged(asdtype('>f4'), 10)\n",
            "vh_sim_theta               TStreamerSTL               asjagged(asdtype('>f4'), 10)\n",
            "vh_sim_eta                 TStreamerSTL               asjagged(asdtype('>f4'), 10)\n",
            "vh_sim_r                   TStreamerSTL               asjagged(asdtype('>f4'), 10)\n",
            "vh_sim_z                   TStreamerSTL               asjagged(asdtype('>f4'), 10)\n",
            "vh_sim_tp1                 TStreamerSTL               asjagged(asdtype('>i4'), 10)\n",
            "vh_sim_tp2                 TStreamerSTL               asjagged(asdtype('>i4'), 10)\n",
            "vh_size                    (no streamer)              asdtype('>i4')\n",
            "vt_pt                      TStreamerSTL               asjagged(asdtype('>f4'), 10)\n",
            "vt_xml_pt                  TStreamerSTL               asjagged(asdtype('>f4'), 10)\n",
            "vt_phi                     TStreamerSTL               asjagged(asdtype('>f4'), 10)\n",
            "vt_eta                     TStreamerSTL               asjagged(asdtype('>f4'), 10)\n",
            "vt_theta                   TStreamerSTL               asjagged(asdtype('>f4'), 10)\n",
            "vt_q                       TStreamerSTL               asjagged(asdtype('>i2'), 10)\n",
            "vt_address                 TStreamerSTL               asjagged(asdtype('>u8'), 10)\n",
            "vt_mode                    TStreamerSTL               asjagged(asdtype('>i2'), 10)\n",
            "vt_endcap                  TStreamerSTL               asjagged(asdtype('>i2'), 10)\n",
            "vt_sector                  TStreamerSTL               asjagged(asdtype('>i2'), 10)\n",
            "vt_bx                      TStreamerSTL               asjagged(asdtype('>i2'), 10)\n",
            "vt_hitref1                 TStreamerSTL               asjagged(asdtype('>i4'), 10)\n",
            "vt_hitref2                 TStreamerSTL               asjagged(asdtype('>i4'), 10)\n",
            "vt_hitref3                 TStreamerSTL               asjagged(asdtype('>i4'), 10)\n",
            "vt_hitref4                 TStreamerSTL               asjagged(asdtype('>i4'), 10)\n",
            "vt_size                    (no streamer)              asdtype('>i4')\n",
            "vu_pt                      TStreamerSTL               asjagged(asdtype('>f4'), 10)\n",
            "vu_phi                     TStreamerSTL               asjagged(asdtype('>f4'), 10)\n",
            "vu_eta                     TStreamerSTL               asjagged(asdtype('>f4'), 10)\n",
            "vu_theta                   TStreamerSTL               asjagged(asdtype('>f4'), 10)\n",
            "vu_vx                      TStreamerSTL               asjagged(asdtype('>f4'), 10)\n",
            "vu_vy                      TStreamerSTL               asjagged(asdtype('>f4'), 10)\n",
            "vu_vz                      TStreamerSTL               asjagged(asdtype('>f4'), 10)\n",
            "vu_q                       TStreamerSTL               asjagged(asdtype('>i2'), 10)\n",
            "vu_rinv                    TStreamerSTL               asjagged(asdtype('>f4'), 10)\n",
            "vu_chi2                    TStreamerSTL               asjagged(asdtype('>f4'), 10)\n",
            "vu_ndof                    TStreamerSTL               asjagged(asdtype('>i2'), 10)\n",
            "vu_sector                  TStreamerSTL               asjagged(asdtype('>i2'), 10)\n",
            "vu_sim_pt                  TStreamerSTL               asjagged(asdtype('>f4'), 10)\n",
            "vu_sim_phi                 TStreamerSTL               asjagged(asdtype('>f4'), 10)\n",
            "vu_sim_eta                 TStreamerSTL               asjagged(asdtype('>f4'), 10)\n",
            "vu_sim_tp                  TStreamerSTL               asjagged(asdtype('>i4'), 10)\n",
            "vu_sim_pdgid               TStreamerSTL               asjagged(asdtype('>i4'), 10)\n",
            "vu_sim_assoc               TStreamerSTL               asjagged(asdtype('>i2'), 10)\n",
            "vu_size                    (no streamer)              asdtype('>i4')\n",
            "vp_pt                      TStreamerSTL               asjagged(asdtype('>f4'), 10)\n",
            "vp_phi                     TStreamerSTL               asjagged(asdtype('>f4'), 10)\n",
            "vp_eta                     TStreamerSTL               asjagged(asdtype('>f4'), 10)\n",
            "vp_theta                   TStreamerSTL               asjagged(asdtype('>f4'), 10)\n",
            "vp_vx                      TStreamerSTL               asjagged(asdtype('>f4'), 10)\n",
            "vp_vy                      TStreamerSTL               asjagged(asdtype('>f4'), 10)\n",
            "vp_vz                      TStreamerSTL               asjagged(asdtype('>f4'), 10)\n",
            "vp_q                       TStreamerSTL               asjagged(asdtype('>i2'), 10)\n",
            "vp_bx                      TStreamerSTL               asjagged(asdtype('>i2'), 10)\n",
            "vp_event                   TStreamerSTL               asjagged(asdtype('>i2'), 10)\n",
            "vp_pdgid                   TStreamerSTL               asjagged(asdtype('>i4'), 10)\n",
            "vp_status                  TStreamerSTL               asjagged(asdtype('>i2'), 10)\n",
            "vp_genp                    TStreamerSTL               asjagged(asdtype('>i4'), 10)\n",
            "vp_size                    (no streamer)              asdtype('>i4')\n",
            "ve_event                   TStreamerSTL               asjagged(asdtype('>u8'), 10)\n",
            "ve_run                     TStreamerSTL               asjagged(asdtype('>u4'), 10)\n",
            "ve_lumi                    TStreamerSTL               asjagged(asdtype('>u4'), 10)\n",
            "ve_npv                     TStreamerSTL               asjagged(asdtype('>i4'), 10)\n",
            "ve_size                    (no streamer)              asdtype('>i4')\n"
          ],
          "name": "stdout"
        }
      ]
    },
    {
      "cell_type": "code",
      "metadata": {
        "id": "4x8HvWNXfghV",
        "colab_type": "code",
        "colab": {}
      },
      "source": [
        "#event = tree.pandas.df([\"ve_event\", \"ve_run\", \"vh_sim_phi\", \"vh_sim_r\"],flatten=False)\n",
        "#event = tree.pandas.df([\"ve_event\", \"ve_run\",\"vh_sim_phi\", \"vh_sim_r\"],flatten=False)"
      ],
      "execution_count": 0,
      "outputs": []
    },
    {
      "cell_type": "code",
      "metadata": {
        "id": "snkkUgD6hxhs",
        "colab_type": "code",
        "outputId": "f81fd424-1f87-4129-d477-dffcef4ab9c9",
        "colab": {
          "base_uri": "https://localhost:8080/",
          "height": 555
        }
      },
      "source": [
        "#Loop over events\n",
        "import matplotlib.pyplot as plt\n",
        "plt.figure(figsize=(16, 3),dpi=100)\n",
        "for i in range(10):\n",
        "  event = tree.pandas.df([\"ve_event\"], flatten=True, entrystart=i, entrystop=(i+1) )\n",
        "  plt.xlabel(\"vh_size with Pile Up\")\n",
        "  plt.hist(event.ve_event, bins=50, range=(268800.,268810.), label='ME1/1', histtype='step')\n",
        "  name='r_phi_event_'+str(i)+'.png'\n",
        "  \n",
        "  print(name, i)\n",
        "  plt.savefig(name)\n",
        " # plt.close()"
      ],
      "execution_count": 0,
      "outputs": [
        {
          "output_type": "stream",
          "text": [
            "r_phi_event_0.png 0\n",
            "r_phi_event_1.png 1\n",
            "r_phi_event_2.png 2\n",
            "r_phi_event_3.png 3\n",
            "r_phi_event_4.png 4\n",
            "r_phi_event_5.png 5\n",
            "r_phi_event_6.png 6\n",
            "r_phi_event_7.png 7\n",
            "r_phi_event_8.png 8\n",
            "r_phi_event_9.png 9\n"
          ],
          "name": "stdout"
        },
        {
          "output_type": "display_data",
          "data": {
            "image/png": "[encoded data removed]",
            "text/plain": [
              "<Figure size 1600x300 with 1 Axes>"
            ]
          },
          "metadata": {
            "tags": []
          }
        }
      ]
    },
    {
      "cell_type": "code",
      "metadata": {
        "id": "QTgs9QB2CTTE",
        "colab_type": "code",
        "outputId": "978dd3f5-a202-4141-fe2f-c3426afec931",
        "colab": {
          "base_uri": "https://localhost:8080/",
          "height": 535
        }
      },
      "source": [
        "#Loop over events\n",
        "import matplotlib.pyplot as plt\n",
        "plt.figure(figsize=(16, 3),dpi=100)\n",
        "for i in range(10):\n",
        "  event = tree.pandas.df([\"vh_sim_z\"], flatten=False, entrystart=i, entrystop=(i+1) )\n",
        "  plt.xlabel(\"vh_size with Pile Up\")\n",
        "  plt.hist(event.vh_sim_z, bins=50, range=(-1000.,1000.), label='ME1/1', histtype='step')\n",
        "  name='r_phi_event_'+str(i)+'.png'\n",
        "  \n",
        "  print(name, i)\n",
        "  plt.savefig(name)\n",
        " # plt.close()"
      ],
      "execution_count": 0,
      "outputs": [
        {
          "output_type": "stream",
          "text": [
            "r_phi_event_0.png 0\n",
            "r_phi_event_1.png 1\n",
            "r_phi_event_2.png 2\n",
            "r_phi_event_3.png 3\n",
            "r_phi_event_4.png 4\n",
            "r_phi_event_5.png 5\n",
            "r_phi_event_6.png 6\n",
            "r_phi_event_7.png 7\n",
            "r_phi_event_8.png 8\n",
            "r_phi_event_9.png 9\n"
          ],
          "name": "stdout"
        },
        {
          "output_type": "display_data",
          "data": {
            "image/png": "[encoded data removed]",
            "text/plain": [
              "<Figure size 1600x300 with 1 Axes>"
            ]
          },
          "metadata": {
            "tags": []
          }
        }
      ]
    },
    {
      "cell_type": "code",
      "metadata": {
        "id": "QYSP_xo9bToX",
        "colab_type": "code",
        "outputId": "03790b29-bf89-48dc-8d04-74673a262949",
        "colab": {
          "base_uri": "https://localhost:8080/",
          "height": 1000
        }
      },
      "source": [
        "import matplotlib.pyplot as plt\n",
        "plt.figure(figsize=(16, 3),dpi=100)\n",
        "events = tree.pandas.df([\"vh_sim_phi\", \"vh_sim_r\",\"vh_sim_z\"], flatten=False)\n",
        "for ievt, event in events.iterrows():\n",
        "  plt.xlabel(\"\")\n",
        "  \n",
        "  plt.scatter(event.vh_sim_r,event.vh_sim_z, color='b', label='Event number 1')\n",
        "  plt.xlabel('r')\n",
        "  plt.ylabel('z0')\n",
        "  name = 'r_z_event'+ str(ievt) + '_new.png'\n",
        "  plt.savefig(name)\n",
        "  print(name, ievt)\n",
        "  plt.show()\n",
        "  plt.close()\n",
        "  if (ievt==9): break\n",
        "  "
      ],
      "execution_count": 0,
      "outputs": [
        {
          "output_type": "stream",
          "text": [
            "r_z_event0_new.png 0\n"
          ],
          "name": "stdout"
        },
        {
          "output_type": "display_data",
          "data": {
            "image/png": "[encoded data removed]",
            "text/plain": [
              "<Figure size 1600x300 with 1 Axes>"
            ]
          },
          "metadata": {
            "tags": []
          }
        },
        {
          "output_type": "stream",
          "text": [
            "r_z_event1_new.png 1\n"
          ],
          "name": "stdout"
        },
        {
          "output_type": "display_data",
          "data": {
            "image/png": "[encoded data removed]",
            "text/plain": [
              "<Figure size 432x288 with 1 Axes>"
            ]
          },
          "metadata": {
            "tags": []
          }
        },
        {
          "output_type": "stream",
          "text": [
            "r_z_event2_new.png 2\n"
          ],
          "name": "stdout"
        },
        {
          "output_type": "display_data",
          "data": {
            "image/png": "[encoded data removed]",
            "text/plain": [
              "<Figure size 432x288 with 1 Axes>"
            ]
          },
          "metadata": {
            "tags": []
          }
        },
        {
          "output_type": "stream",
          "text": [
            "r_z_event3_new.png 3\n"
          ],
          "name": "stdout"
        },
        {
          "output_type": "display_data",
          "data": {
            "image/png": "[encoded data removed]",
            "text/plain": [
              "<Figure size 432x288 with 1 Axes>"
            ]
          },
          "metadata": {
            "tags": []
          }
        },
        {
          "output_type": "stream",
          "text": [
            "r_z_event4_new.png 4\n"
          ],
          "name": "stdout"
        },
        {
          "output_type": "display_data",
          "data": {
            "image/png": "[encoded data removed]",
            "text/plain": [
              "<Figure size 432x288 with 1 Axes>"
            ]
          },
          "metadata": {
            "tags": []
          }
        },
        {
          "output_type": "stream",
          "text": [
            "r_z_event5_new.png 5\n"
          ],
          "name": "stdout"
        },
        {
          "output_type": "display_data",
          "data": {
            "image/png": "[encoded data removed]",
            "text/plain": [
              "<Figure size 432x288 with 1 Axes>"
            ]
          },
          "metadata": {
            "tags": []
          }
        },
        {
          "output_type": "stream",
          "text": [
            "r_z_event6_new.png 6\n"
          ],
          "name": "stdout"
        },
        {
          "output_type": "display_data",
          "data": {
            "image/png": "[encoded data removed]",
            "text/plain": [
              "<Figure size 432x288 with 1 Axes>"
            ]
          },
          "metadata": {
            "tags": []
          }
        },
        {
          "output_type": "stream",
          "text": [
            "r_z_event7_new.png 7\n"
          ],
          "name": "stdout"
        },
        {
          "output_type": "display_data",
          "data": {
            "image/png": "[encoded data removed]",
            "text/plain": [
              "<Figure size 432x288 with 1 Axes>"
            ]
          },
          "metadata": {
            "tags": []
          }
        },
        {
          "output_type": "stream",
          "text": [
            "r_z_event8_new.png 8\n"
          ],
          "name": "stdout"
        },
        {
          "output_type": "display_data",
          "data": {
            "image/png": "[encoded data removed]",
            "text/plain": [
              "<Figure size 432x288 with 1 Axes>"
            ]
          },
          "metadata": {
            "tags": []
          }
        },
        {
          "output_type": "stream",
          "text": [
            "r_z_event9_new.png 9\n"
          ],
          "name": "stdout"
        },
        {
          "output_type": "display_data",
          "data": {
            "image/png": "[encoded data removed]",
            "text/plain": [
              "<Figure size 432x288 with 1 Axes>"
            ]
          },
          "metadata": {
            "tags": []
          }
        }
      ]
    },
    {
      "cell_type": "code",
      "metadata": {
        "id": "fKuMWZU6Vwjm",
        "colab_type": "code",
        "outputId": "9e90cd67-fe32-41e3-bbcb-fefbbc1c97a0",
        "colab": {
          "base_uri": "https://localhost:8080/",
          "height": 346
        }
      },
      "source": [
        "import matplotlib.pyplot as plt\n",
        "plt.figure(figsize=(16, 3),dpi=100)\n",
        "events = tree.pandas.df([\"vh_sim_phi\", \"vh_sim_r\",\"ve_event\", \"vh_strip\"], flatten=False)\n",
        "for ievt, event in events.iterrows():\n",
        " # plt.xlabel(\"vh_size with Pile Up\")\n",
        " # plt.hist(event.ve_event, bins=50, range=(0.,10.), label='ME1/1', histtype='step')\n",
        "  plt.scatter(event.vh_sim_r[event.ve_event==268801],event.vh_sim_phi[event.ve_event==268801], color='b', label='')\n",
        "  plt.savefig(name)\n",
        "  print(name, ievt)\n",
        "  #plt.close()\n",
        "  if (ievt==9): break"
      ],
      "execution_count": 0,
      "outputs": [
        {
          "output_type": "error",
          "ename": "IndexError",
          "evalue": "ignored",
          "traceback": [
            "\u001b[0;31m---------------------------------------------------------------------------\u001b[0m",
            "\u001b[0;31mIndexError\u001b[0m                                Traceback (most recent call last)",
            "\u001b[0;32m<ipython-input-8-3cdbe8fad208>\u001b[0m in \u001b[0;36m<module>\u001b[0;34m()\u001b[0m\n\u001b[1;32m      5\u001b[0m  \u001b[0;31m# plt.xlabel(\"vh_size with Pile Up\")\u001b[0m\u001b[0;34m\u001b[0m\u001b[0;34m\u001b[0m\u001b[0;34m\u001b[0m\u001b[0m\n\u001b[1;32m      6\u001b[0m  \u001b[0;31m# plt.hist(event.ve_event, bins=50, range=(0.,10.), label='ME1/1', histtype='step')\u001b[0m\u001b[0;34m\u001b[0m\u001b[0;34m\u001b[0m\u001b[0;34m\u001b[0m\u001b[0m\n\u001b[0;32m----> 7\u001b[0;31m   \u001b[0mplt\u001b[0m\u001b[0;34m.\u001b[0m\u001b[0mscatter\u001b[0m\u001b[0;34m(\u001b[0m\u001b[0mevent\u001b[0m\u001b[0;34m.\u001b[0m\u001b[0mvh_sim_r\u001b[0m\u001b[0;34m[\u001b[0m\u001b[0mevent\u001b[0m\u001b[0;34m.\u001b[0m\u001b[0mve_event\u001b[0m\u001b[0;34m==\u001b[0m\u001b[0;36m268801\u001b[0m\u001b[0;34m]\u001b[0m\u001b[0;34m,\u001b[0m\u001b[0mevent\u001b[0m\u001b[0;34m.\u001b[0m\u001b[0mvh_sim_phi\u001b[0m\u001b[0;34m[\u001b[0m\u001b[0mevent\u001b[0m\u001b[0;34m.\u001b[0m\u001b[0mve_event\u001b[0m\u001b[0;34m==\u001b[0m\u001b[0;36m268801\u001b[0m\u001b[0;34m]\u001b[0m\u001b[0;34m,\u001b[0m \u001b[0mcolor\u001b[0m\u001b[0;34m=\u001b[0m\u001b[0;34m'b'\u001b[0m\u001b[0;34m,\u001b[0m \u001b[0mlabel\u001b[0m\u001b[0;34m=\u001b[0m\u001b[0;34m''\u001b[0m\u001b[0;34m)\u001b[0m\u001b[0;34m\u001b[0m\u001b[0;34m\u001b[0m\u001b[0m\n\u001b[0m\u001b[1;32m      8\u001b[0m   \u001b[0mplt\u001b[0m\u001b[0;34m.\u001b[0m\u001b[0msavefig\u001b[0m\u001b[0;34m(\u001b[0m\u001b[0mname\u001b[0m\u001b[0;34m)\u001b[0m\u001b[0;34m\u001b[0m\u001b[0;34m\u001b[0m\u001b[0m\n\u001b[1;32m      9\u001b[0m   \u001b[0mprint\u001b[0m\u001b[0;34m(\u001b[0m\u001b[0mname\u001b[0m\u001b[0;34m,\u001b[0m \u001b[0mievt\u001b[0m\u001b[0;34m)\u001b[0m\u001b[0;34m\u001b[0m\u001b[0;34m\u001b[0m\u001b[0m\n",
            "\u001b[0;31mIndexError\u001b[0m: boolean index did not match indexed array along dimension 0; dimension is 43 but corresponding boolean dimension is 1"
          ]
        },
        {
          "output_type": "display_data",
          "data": {
            "text/plain": [
              "<Figure size 1600x300 with 0 Axes>"
            ]
          },
          "metadata": {
            "tags": []
          }
        }
      ]
    },
    {
      "cell_type": "code",
      "metadata": {
        "id": "BnspCNEmIPSb",
        "colab_type": "code",
        "colab": {}
      },
      "source": [
        ""
      ],
      "execution_count": 0,
      "outputs": []
    },
    {
      "cell_type": "code",
      "metadata": {
        "id": "JajChACoIPfG",
        "colab_type": "code",
        "colab": {}
      },
      "source": [
        ""
      ],
      "execution_count": 0,
      "outputs": []
    },
    {
      "cell_type": "code",
      "metadata": {
        "id": "twpog5O1IP9I",
        "colab_type": "code",
        "colab": {}
      },
      "source": [
        ""
      ],
      "execution_count": 0,
      "outputs": []
    },
    {
      "cell_type": "code",
      "metadata": {
        "id": "CiHj0z8uIQHj",
        "colab_type": "code",
        "colab": {}
      },
      "source": [
        ""
      ],
      "execution_count": 0,
      "outputs": []
    },
    {
      "cell_type": "code",
      "metadata": {
        "id": "QmAgWsjQIVPQ",
        "colab_type": "code",
        "colab": {}
      },
      "source": [
        "#Loop over events\n",
        "import matplotlib.pyplot as plt\n",
        "plt.figure(figsize=(16, 3),dpi=100)\n",
        "for i in range(10):\n",
        "  event = tree.pandas.df([\"vh_size\", \"vh_sim_phi\",\"vh_sim_r\", \"ve_event\" ], flatten=False, entrystart=i, entrystop=(i+1) )\n",
        "  plt.xlabel(\"vh_size with Pile Up\")\n",
        "  #plt.hist(event.vh_size, bins=50, range=(28.,31.), label='ME1/1', histtype='step')\n",
        "  plt.scatter(event.vh_sim_r[event.ve_event==268801],event.vh_sim_phi[event.ve_event==268801], color='b' ,  label='ME1/3')\n",
        "  name='r_phi_event_'+str(i)+'.png'\n",
        "  \n",
        "  print(name, i)\n",
        "  plt.savefig(name)\n",
        " # plt.close()"
      ],
      "execution_count": 0,
      "outputs": []
    },
    {
      "cell_type": "markdown",
      "metadata": {
        "id": "k6IHTCHHif9x",
        "colab_type": "text"
      },
      "source": [
        "#Test, I'll understand the variable"
      ]
    },
    {
      "cell_type": "code",
      "metadata": {
        "id": "WXnQBY9MiPxc",
        "colab_type": "code",
        "colab": {}
      },
      "source": [
        "#import matplotlib.pyplot as plt\n",
        "#plt.figure(figsize=(16, 3),dpi=100)\n",
        "\n",
        "#plt.xlabel(\"z0\")\n",
        "#\n",
        "#plt.hist(z0[h_type==2], bins=50, range=(580.,1000.), label='z02', histtype='step')\n",
        "#plt.legend()\n",
        "#plt.save.fig('r1xr2'.png)\n",
        "\n",
        "#plt.show()"
      ],
      "execution_count": 0,
      "outputs": []
    },
    {
      "cell_type": "code",
      "metadata": {
        "id": "_YmHuTWjqUF8",
        "colab_type": "code",
        "colab": {}
      },
      "source": [
        "#for i in range(1,7):\n",
        " # phi_cms=(h_sim_phi[h_sector==i]/60)-22 +15 + (i-1)*60\n",
        " # import matplotlib.pyplot as plt\n",
        " # plt.figure(figsize=(16, 3),dpi=100)\n",
        "\n",
        " # plt.xlabel(\"z0\")\n",
        " # plt.hist(phi_cms, bins=50, range=(-10,300.), label='z01', histtype='step')\n",
        "\n",
        "#plt.hist(z0[h_type==2], bins=50, range=(580.,1000.), label='z02', histtype='step')\n",
        " # plt.legend()\n",
        "#plt.save.fig('r1xr2'.png)\n",
        "\n",
        " # plt.show()\n",
        " # print(i, phi_cms) \n",
        "  \n",
        "  \n",
        "\n"
      ],
      "execution_count": 0,
      "outputs": []
    },
    {
      "cell_type": "code",
      "metadata": {
        "id": "lf9AeURD2pwi",
        "colab_type": "code",
        "colab": {}
      },
      "source": [
        "import matplotlib.pyplot as plt\n",
        "plt.figure(figsize=(16, 3),dpi=100)\n",
        "\n",
        "print(len(event.ve_event))\n",
        "plt.xlabel(\"vh_size with Pile Up\")\n",
        "plt.hist(event.ve_event, bins=50, range=(99000.,99001.), label='ME1/1', histtype='step')\n",
        "plt.legend()\n",
        "\n",
        "plt.show()"
      ],
      "execution_count": 0,
      "outputs": []
    },
    {
      "cell_type": "code",
      "metadata": {
        "id": "UZB8C0lI4xyg",
        "colab_type": "code",
        "colab": {}
      },
      "source": [
        "import matplotlib.pyplot as plt\n",
        "plt.figure(figsize=(16, 3),dpi=100)\n",
        "\n",
        "print(event.ve_run)\n",
        "plt.xlabel(\"vh_size with Pile Up\")\n",
        "plt.hist(event.ve_event, bins=50, range=(95000.,350000.), label='ME1/1', histtype='step')\n",
        "plt.legend()\n",
        "\n",
        "plt.show()"
      ],
      "execution_count": 0,
      "outputs": []
    },
    {
      "cell_type": "code",
      "metadata": {
        "id": "9ZP6BM5O2DU1",
        "colab_type": "code",
        "colab": {}
      },
      "source": [
        "import matplotlib.pyplot as plt\n",
        "plt.figure(figsize=(16, 3),dpi=100)\n",
        "plt.scatter(event.vh_sim_phi[event.vh_size==30],event.vh_sim_r[event.vh_size==30], color='b' ,  label='ME1/3')\n",
        "plt.xlabel('r')\n",
        "#plt.scatter(r[h_wire==1], bins=50, range=(180.,1000.), label='r1', histtype='step')\n",
        "plt.ylabel('phi')\n",
        "#plt.scatter(z0[h_type==1], bins=50, range=(180.,1000.), label='z01', histtype='step')\n",
        "plt.legend()\n",
        "#plt.save.fig('r1xr2'.png)\n",
        "\n",
        "plt.show()"
      ],
      "execution_count": 0,
      "outputs": []
    },
    {
      "cell_type": "code",
      "metadata": {
        "id": "Tbv1pmOx5mQ7",
        "colab_type": "code",
        "colab": {}
      },
      "source": [
        "import matplotlib.pyplot as plt\n",
        "plt.figure(figsize=(16, 3),dpi=100)\n",
        "plt.scatter(event.vh_sim_phi[event.ve_event==99200],event.vh_sim_r[event.ve_event==99200], color='b' ,  label='ME1/3')\n",
        "plt.xlabel('r')\n",
        "#plt.scatter(r[h_wire==1], bins=50, range=(180.,1000.), label='r1', histtype='step')\n",
        "plt.ylabel('phi')\n",
        "#plt.scatter(z0[h_type==1], bins=50, range=(180.,1000.), label='z01', histtype='step')\n",
        "plt.legend()\n",
        "#plt.save.fig('r1xr2'.png)\n",
        "\n",
        "plt.show()"
      ],
      "execution_count": 0,
      "outputs": []
    },
    {
      "cell_type": "code",
      "metadata": {
        "id": "Gyf6QMiAb2Ni",
        "colab_type": "code",
        "colab": {}
      },
      "source": [
        "import matplotlib.pyplot as plt\n",
        "plt.figure(figsize=(16, 3),dpi=100)\n",
        "\n",
        "print(event.vh_pattern)\n",
        "plt.xlabel(\"vh_size with Pile Up\")\n",
        "plt.hist(event.vh_pattern, bins=50, range=(0.,10.), label='ME1/1', histtype='step')\n",
        "plt.legend()\n",
        "\n",
        "plt.show()"
      ],
      "execution_count": 0,
      "outputs": []
    },
    {
      "cell_type": "code",
      "metadata": {
        "id": "oDjLyoVKfAwH",
        "colab_type": "code",
        "colab": {}
      },
      "source": [
        "import matplotlib.pyplot as plt\n",
        "plt.figure(figsize=(16, 3),dpi=100)\n",
        "plt.scatter(event.vh_sim_phi[event.vh_pattern==14],event.vh_sim_r[event.vh_pattern==14], color='b' ,  label='ME1/3')\n",
        "plt.xlabel('r')\n",
        "#plt.scatter(r[h_wire==1], bins=50, range=(180.,1000.), label='r1', histtype='step')\n",
        "plt.ylabel('phi')\n",
        "#plt.scatter(z0[h_type==1], bins=50, range=(180.,1000.), label='z01', histtype='step')\n",
        "plt.legend()\n",
        "#plt.save.fig('r1xr2'.png)\n",
        "\n",
        "plt.show()"
      ],
      "execution_count": 0,
      "outputs": []
    },
    {
      "cell_type": "code",
      "metadata": {
        "id": "pDlJcHgS941B",
        "colab_type": "code",
        "colab": {}
      },
      "source": [
        "for i in range(1,7):\n",
        "  phi_cms=(event.vh_sim_phi[event.vh_sector==i][event.vh_pattern==9]/60)-22 +15 + (i-1)*60\n",
        "  r_cms=event.vh_sim_r[event.vh_sector==i][event.vh_pattern==9]\n",
        "  import matplotlib.pyplot as plt\n",
        "  plt.figure(figsize=(16, 3),dpi=100)\n",
        "  plt.scatter(phi_cms,r_cms, color='b' ,  label='ME1/3')\n",
        "  plt.xlabel('r')\n",
        "#plt.scatter(r[h_type==1], bins=50, range=(180.,1000.), label='r1', histtype='step')\n",
        "  plt.ylabel('phi')\n",
        "#plt.scatter(z0[h_type==1], bins=50, range=(180.,1000.), label='z01', histtype='step')\n",
        "  plt.legend()\n",
        "#plt.save.fig('r1xr2'.png)\n",
        "\n",
        "  plt.show()\n",
        "  print(i, phi_cms) "
      ],
      "execution_count": 0,
      "outputs": []
    }
  ]
}